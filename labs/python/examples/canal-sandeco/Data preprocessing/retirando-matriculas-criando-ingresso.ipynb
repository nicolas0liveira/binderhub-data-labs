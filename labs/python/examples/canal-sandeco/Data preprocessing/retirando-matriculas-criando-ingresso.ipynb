{
 "cells": [
  {
   "cell_type": "code",
   "execution_count": 26,
   "metadata": {
    "collapsed": false
   },
   "outputs": [],
   "source": [
    "import pandas as pd\n",
    "import matplotlib.pyplot as plt\n",
    "import seaborn as sb\n",
    "\n",
    "%matplotlib inline\n",
    "\n",
    "#dados = pd.read_csv('si-original.csv', na_values=['NULL'], dtype={\"MATRICULA\" : \"object\"})\n",
    "dados = pd.read_csv('eca-original.csv', na_values=['NULL'], dtype={\"MATRICULA\" : \"object\"})\n",
    "\n",
    "#dados.head()"
   ]
  },
  {
   "cell_type": "code",
   "execution_count": 27,
   "metadata": {
    "collapsed": false
   },
   "outputs": [
    {
     "data": {
      "text/plain": [
       "MATRICULA                object\n",
       "SIT_MATRICULA             int64\n",
       "PAI_FALECIDO            float64\n",
       "MAE_FALECIDO            float64\n",
       "RENDA_FAMILIAR          float64\n",
       "TIPO_ESCOLA_ORIGEM       object\n",
       "ANO_CONCLUSAO_2_GRAU    float64\n",
       "RENDA_PER_CAPITA        float64\n",
       "COD_ESTADO_CIVIL         object\n",
       "N_FILHOS                float64\n",
       "SEXO                     object\n",
       "DT_NASCIMENTO            object\n",
       "PROFISSAO                object\n",
       "DESC_CIDADE              object\n",
       "DESC_ESTADO              object\n",
       "DESC_IDIOMA              object\n",
       "NIVEL_FALA              float64\n",
       "NIVEL_COMPREENSAO       float64\n",
       "NIVEL_ESCRITA           float64\n",
       "NIVEL_LEITURA           float64\n",
       "NOTAS                    object\n",
       "N_FALTAS                float64\n",
       "COD_DISCIPLINA            int64\n",
       "CARGA_HOR                 int64\n",
       "dtype: object"
      ]
     },
     "execution_count": 27,
     "metadata": {},
     "output_type": "execute_result"
    }
   ],
   "source": [
    "dados.dtypes"
   ]
  },
  {
   "cell_type": "code",
   "execution_count": 28,
   "metadata": {
    "collapsed": false
   },
   "outputs": [],
   "source": [
    "#CRIANDO CAMPO DE ANO DE INGRESSO PARA CÁLCULO DA IDADE DE INGRESSO\n",
    "dados['ANO_INGRESSO'] = dados['MATRICULA'].str[:4]\n",
    "\n",
    "#EXCLUINDO O ATRIBUTO MATRICULA\n",
    "dados.drop('MATRICULA',axis=1, inplace=True)"
   ]
  },
  {
   "cell_type": "code",
   "execution_count": 29,
   "metadata": {
    "collapsed": false
   },
   "outputs": [
    {
     "data": {
      "text/plain": [
       "SIT_MATRICULA             int64\n",
       "PAI_FALECIDO            float64\n",
       "MAE_FALECIDO            float64\n",
       "RENDA_FAMILIAR          float64\n",
       "TIPO_ESCOLA_ORIGEM       object\n",
       "ANO_CONCLUSAO_2_GRAU    float64\n",
       "RENDA_PER_CAPITA        float64\n",
       "COD_ESTADO_CIVIL         object\n",
       "N_FILHOS                float64\n",
       "SEXO                     object\n",
       "DT_NASCIMENTO            object\n",
       "PROFISSAO                object\n",
       "DESC_CIDADE              object\n",
       "DESC_ESTADO              object\n",
       "DESC_IDIOMA              object\n",
       "NIVEL_FALA              float64\n",
       "NIVEL_COMPREENSAO       float64\n",
       "NIVEL_ESCRITA           float64\n",
       "NIVEL_LEITURA           float64\n",
       "NOTAS                    object\n",
       "N_FALTAS                float64\n",
       "COD_DISCIPLINA            int64\n",
       "CARGA_HOR                 int64\n",
       "ANO_INGRESSO             object\n",
       "dtype: object"
      ]
     },
     "execution_count": 29,
     "metadata": {},
     "output_type": "execute_result"
    }
   ],
   "source": [
    "dados.dtypes"
   ]
  },
  {
   "cell_type": "code",
   "execution_count": 30,
   "metadata": {
    "collapsed": false
   },
   "outputs": [
    {
     "data": {
      "text/html": [
       "<div>\n",
       "<table border=\"1\" class=\"dataframe\">\n",
       "  <thead>\n",
       "    <tr style=\"text-align: right;\">\n",
       "      <th></th>\n",
       "      <th>SIT_MATRICULA</th>\n",
       "      <th>PAI_FALECIDO</th>\n",
       "      <th>MAE_FALECIDO</th>\n",
       "      <th>RENDA_FAMILIAR</th>\n",
       "      <th>TIPO_ESCOLA_ORIGEM</th>\n",
       "      <th>ANO_CONCLUSAO_2_GRAU</th>\n",
       "      <th>RENDA_PER_CAPITA</th>\n",
       "      <th>COD_ESTADO_CIVIL</th>\n",
       "      <th>N_FILHOS</th>\n",
       "      <th>SEXO</th>\n",
       "      <th>...</th>\n",
       "      <th>DESC_IDIOMA</th>\n",
       "      <th>NIVEL_FALA</th>\n",
       "      <th>NIVEL_COMPREENSAO</th>\n",
       "      <th>NIVEL_ESCRITA</th>\n",
       "      <th>NIVEL_LEITURA</th>\n",
       "      <th>NOTAS</th>\n",
       "      <th>N_FALTAS</th>\n",
       "      <th>COD_DISCIPLINA</th>\n",
       "      <th>CARGA_HOR</th>\n",
       "      <th>ANO_INGRESSO</th>\n",
       "    </tr>\n",
       "  </thead>\n",
       "  <tbody>\n",
       "    <tr>\n",
       "      <th>0</th>\n",
       "      <td>0</td>\n",
       "      <td>0.0</td>\n",
       "      <td>0.0</td>\n",
       "      <td>NaN</td>\n",
       "      <td>E</td>\n",
       "      <td>2014.0</td>\n",
       "      <td>NaN</td>\n",
       "      <td>S</td>\n",
       "      <td>NaN</td>\n",
       "      <td>M</td>\n",
       "      <td>...</td>\n",
       "      <td>Espanhol</td>\n",
       "      <td>1.0</td>\n",
       "      <td>1.0</td>\n",
       "      <td>1.0</td>\n",
       "      <td>1.0</td>\n",
       "      <td>6.70</td>\n",
       "      <td>NaN</td>\n",
       "      <td>648</td>\n",
       "      <td>54</td>\n",
       "      <td>2016</td>\n",
       "    </tr>\n",
       "    <tr>\n",
       "      <th>1</th>\n",
       "      <td>0</td>\n",
       "      <td>0.0</td>\n",
       "      <td>0.0</td>\n",
       "      <td>0.0</td>\n",
       "      <td>P</td>\n",
       "      <td>2011.0</td>\n",
       "      <td>0.0</td>\n",
       "      <td>NaN</td>\n",
       "      <td>0.0</td>\n",
       "      <td>M</td>\n",
       "      <td>...</td>\n",
       "      <td>Inglês</td>\n",
       "      <td>2.0</td>\n",
       "      <td>3.0</td>\n",
       "      <td>3.0</td>\n",
       "      <td>3.0</td>\n",
       "      <td>10.00</td>\n",
       "      <td>NaN</td>\n",
       "      <td>648</td>\n",
       "      <td>54</td>\n",
       "      <td>2016</td>\n",
       "    </tr>\n",
       "    <tr>\n",
       "      <th>2</th>\n",
       "      <td>0</td>\n",
       "      <td>0.0</td>\n",
       "      <td>0.0</td>\n",
       "      <td>0.0</td>\n",
       "      <td>P</td>\n",
       "      <td>2011.0</td>\n",
       "      <td>0.0</td>\n",
       "      <td>NaN</td>\n",
       "      <td>0.0</td>\n",
       "      <td>M</td>\n",
       "      <td>...</td>\n",
       "      <td>Espanhol</td>\n",
       "      <td>1.0</td>\n",
       "      <td>1.0</td>\n",
       "      <td>1.0</td>\n",
       "      <td>1.0</td>\n",
       "      <td>10.00</td>\n",
       "      <td>NaN</td>\n",
       "      <td>648</td>\n",
       "      <td>54</td>\n",
       "      <td>2016</td>\n",
       "    </tr>\n",
       "    <tr>\n",
       "      <th>3</th>\n",
       "      <td>0</td>\n",
       "      <td>0.0</td>\n",
       "      <td>0.0</td>\n",
       "      <td>0.0</td>\n",
       "      <td>P</td>\n",
       "      <td>2014.0</td>\n",
       "      <td>0.0</td>\n",
       "      <td>NaN</td>\n",
       "      <td>0.0</td>\n",
       "      <td>M</td>\n",
       "      <td>...</td>\n",
       "      <td>NaN</td>\n",
       "      <td>NaN</td>\n",
       "      <td>NaN</td>\n",
       "      <td>NaN</td>\n",
       "      <td>NaN</td>\n",
       "      <td>0.00</td>\n",
       "      <td>70.0</td>\n",
       "      <td>648</td>\n",
       "      <td>54</td>\n",
       "      <td>2016</td>\n",
       "    </tr>\n",
       "    <tr>\n",
       "      <th>4</th>\n",
       "      <td>0</td>\n",
       "      <td>0.0</td>\n",
       "      <td>0.0</td>\n",
       "      <td>0.0</td>\n",
       "      <td>NaN</td>\n",
       "      <td>NaN</td>\n",
       "      <td>0.0</td>\n",
       "      <td>S</td>\n",
       "      <td>0.0</td>\n",
       "      <td>F</td>\n",
       "      <td>...</td>\n",
       "      <td>NaN</td>\n",
       "      <td>NaN</td>\n",
       "      <td>NaN</td>\n",
       "      <td>NaN</td>\n",
       "      <td>NaN</td>\n",
       "      <td>0.00</td>\n",
       "      <td>70.0</td>\n",
       "      <td>648</td>\n",
       "      <td>54</td>\n",
       "      <td>2016</td>\n",
       "    </tr>\n",
       "  </tbody>\n",
       "</table>\n",
       "<p>5 rows × 24 columns</p>\n",
       "</div>"
      ],
      "text/plain": [
       "   SIT_MATRICULA  PAI_FALECIDO  MAE_FALECIDO  RENDA_FAMILIAR  \\\n",
       "0              0           0.0           0.0             NaN   \n",
       "1              0           0.0           0.0             0.0   \n",
       "2              0           0.0           0.0             0.0   \n",
       "3              0           0.0           0.0             0.0   \n",
       "4              0           0.0           0.0             0.0   \n",
       "\n",
       "  TIPO_ESCOLA_ORIGEM  ANO_CONCLUSAO_2_GRAU  RENDA_PER_CAPITA COD_ESTADO_CIVIL  \\\n",
       "0                  E                2014.0               NaN                S   \n",
       "1                  P                2011.0               0.0              NaN   \n",
       "2                  P                2011.0               0.0              NaN   \n",
       "3                  P                2014.0               0.0              NaN   \n",
       "4                NaN                   NaN               0.0                S   \n",
       "\n",
       "   N_FILHOS SEXO     ...      DESC_IDIOMA NIVEL_FALA NIVEL_COMPREENSAO  \\\n",
       "0       NaN    M     ...         Espanhol        1.0               1.0   \n",
       "1       0.0    M     ...           Inglês        2.0               3.0   \n",
       "2       0.0    M     ...         Espanhol        1.0               1.0   \n",
       "3       0.0    M     ...              NaN        NaN               NaN   \n",
       "4       0.0    F     ...              NaN        NaN               NaN   \n",
       "\n",
       "  NIVEL_ESCRITA NIVEL_LEITURA  NOTAS  N_FALTAS  COD_DISCIPLINA  CARGA_HOR  \\\n",
       "0           1.0           1.0   6.70       NaN             648         54   \n",
       "1           3.0           3.0  10.00       NaN             648         54   \n",
       "2           1.0           1.0  10.00       NaN             648         54   \n",
       "3           NaN           NaN   0.00      70.0             648         54   \n",
       "4           NaN           NaN   0.00      70.0             648         54   \n",
       "\n",
       "  ANO_INGRESSO  \n",
       "0         2016  \n",
       "1         2016  \n",
       "2         2016  \n",
       "3         2016  \n",
       "4         2016  \n",
       "\n",
       "[5 rows x 24 columns]"
      ]
     },
     "execution_count": 30,
     "metadata": {},
     "output_type": "execute_result"
    }
   ],
   "source": [
    "dados.head()"
   ]
  },
  {
   "cell_type": "code",
   "execution_count": 31,
   "metadata": {
    "collapsed": true
   },
   "outputs": [],
   "source": [
    "#SALVANDO DADOS SEM MATRICULA\n",
    "#dados.to_csv('si.csv', index=False)\n",
    "dados.to_csv('eca.csv', index=False)"
   ]
  },
  {
   "cell_type": "code",
   "execution_count": null,
   "metadata": {
    "collapsed": true
   },
   "outputs": [],
   "source": []
  }
 ],
 "metadata": {
  "kernelspec": {
   "display_name": "Python 3",
   "language": "python",
   "name": "python3"
  },
  "language_info": {
   "codemirror_mode": {
    "name": "ipython",
    "version": 3
   },
   "file_extension": ".py",
   "mimetype": "text/x-python",
   "name": "python",
   "nbconvert_exporter": "python",
   "pygments_lexer": "ipython3",
   "version": "3.6.0"
  }
 },
 "nbformat": 4,
 "nbformat_minor": 0
}
