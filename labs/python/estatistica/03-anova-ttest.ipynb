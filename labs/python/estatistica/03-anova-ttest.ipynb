{
 "cells": [
  {
   "cell_type": "code",
   "execution_count": 75,
   "metadata": {
    "collapsed": false
   },
   "outputs": [
    {
     "name": "stdout",
     "output_type": "stream",
     "text": [
      "Média de proutividade da semente 1 :105.5\n",
      "Média de proutividade da semente 2 :108.0\n",
      "Média de proutividade da semente 3 :114.25\n",
      "Média de proutividade da semente 4 :115.0\n"
     ]
    }
   ],
   "source": [
    "## EXISTE DIFERENÇA DE PRODUTIVIDADE DAS SEMENTES ABAIXO?\n",
    "## https://www.youtube.com/watch?v=Ta__Pl7gM8k&index=4&list=PLf4bYenXCjJUhCSwSCnJBdbK1AlNAhVkI\n",
    "## APLICAÇÃO DA ANOVA\n",
    "\n",
    "from pandas import *\n",
    "import numpy as np\n",
    "\n",
    "import scipy.stats as stats\n",
    "## http://docs.scipy.org/doc/scipy/reference/generated/scipy.stats.f_oneway.html\n",
    "\n",
    "## temos abaixo 4 tipos de sementes\n",
    "## e periodos de produtividade por semente\n",
    "## a questão é verificar a variância entre a média das sementes\n",
    "\n",
    "\n",
    "\n",
    "semente1 = np.array([103, 105, 108, 106])\n",
    "semente2 = np.array([110, 108, 107, 107])\n",
    "semente3 = np.array([114, 114, 113, 116])\n",
    "semente4 = np.array([115, 117, 113, 115])\n",
    "\n",
    "print(\"Média de proutividade da semente 1 :\" + str(semente1.mean()))\n",
    "print(\"Média de proutividade da semente 2 :\" + str(semente2.mean()))\n",
    "print(\"Média de proutividade da semente 3 :\" + str(semente3.mean()))\n",
    "print(\"Média de proutividade da semente 4 :\" + str(semente4.mean()))\n"
   ]
  },
  {
   "cell_type": "code",
   "execution_count": 66,
   "metadata": {
    "collapsed": false
   },
   "outputs": [
    {
     "name": "stdout",
     "output_type": "stream",
     "text": [
      "H1 = Existe pelo menos 1 diferença entre a produtividade das sementes\n"
     ]
    },
    {
     "data": {
      "text/plain": [
       "4.4820584291003536e-06"
      ]
     },
     "execution_count": 66,
     "metadata": {},
     "output_type": "execute_result"
    }
   ],
   "source": [
    "## Portanto, temos as seguintes hipóteses para ANOVA one way\n",
    "\n",
    "## H0 = m1=m2=m3=m4 (são estatisticamente iguais) \n",
    "## H1 = Existe pelo menos 1 diferença entre a produtividade das sementes\n",
    "\n",
    "\n",
    "result = stats.f_oneway(semente1, semente2, semente3, semente4)\n",
    "\n",
    "if result.pvalue>.05:\n",
    "    print(\"H0 = m1=m2=m3=m4 (são estatisticamente iguais) \")\n",
    "else:\n",
    "    print(\"H1 = Existe pelo menos 1 diferença entre a produtividade das sementes\")\n",
    "    \n",
    "result.pvalue"
   ]
  },
  {
   "cell_type": "code",
   "execution_count": 67,
   "metadata": {
    "collapsed": false
   },
   "outputs": [
    {
     "name": "stdout",
     "output_type": "stream",
     "text": [
      "Produtividade das Sementes são iguais\n"
     ]
    }
   ],
   "source": [
    "## APLICAÇÃO DO T-TEST PARA VERIFICAR A HIPÓTESE NULA EM DUPLAS DE SEMENTES\n",
    "## http://docs.scipy.org/doc/scipy/reference/generated/scipy.stats.ttest_ind.html\n",
    "\n",
    "## NESTE CASO USAREMOS T-TEST COM DIFERENTES MÉDIAS, VARIÂNCIAS E N:\n",
    "\n",
    "## base teórica\n",
    "## https://www.youtube.com/watch?v=tjSj2OkV51A&list=PLAwxTw4SYaPk41og7PER4HBpGciPw6n3x&index=96\n",
    "\n",
    "result = stats.ttest_ind(semente1, semente2, equal_var = False)\n",
    "\n",
    "if result.pvalue>.05:\n",
    "    print(\"Produtividade das Sementes são iguais\")\n",
    "else:\n",
    "    print(\"Produtividade das Sementes são diferentes\")\n",
    "    \n",
    "\n"
   ]
  },
  {
   "cell_type": "code",
   "execution_count": 68,
   "metadata": {
    "collapsed": false
   },
   "outputs": [
    {
     "name": "stdout",
     "output_type": "stream",
     "text": [
      "Produtividade das Sementes são diferentes\n"
     ]
    }
   ],
   "source": [
    "result = stats.ttest_ind(semente1, semente3, equal_var = False)\n",
    "\n",
    "if result.pvalue>.05:\n",
    "    print(\"Produtividade das Sementes são iguais\")\n",
    "else:\n",
    "    print(\"Produtividade das Sementes são diferentes\")\n",
    "    \n",
    "\n"
   ]
  },
  {
   "cell_type": "code",
   "execution_count": 69,
   "metadata": {
    "collapsed": false
   },
   "outputs": [
    {
     "name": "stdout",
     "output_type": "stream",
     "text": [
      "Produtividade das Sementes são diferentes\n"
     ]
    }
   ],
   "source": [
    "result = stats.ttest_ind(semente1, semente4, equal_var = False)\n",
    "\n",
    "if result.pvalue>.05:\n",
    "    print(\"Produtividade das Sementes são iguais\")\n",
    "else:\n",
    "    print(\"Produtividade das Sementes são diferentes\")\n",
    "    \n",
    "\n"
   ]
  },
  {
   "cell_type": "code",
   "execution_count": 70,
   "metadata": {
    "collapsed": false
   },
   "outputs": [
    {
     "name": "stdout",
     "output_type": "stream",
     "text": [
      "Produtividade das Sementes são diferentes\n"
     ]
    }
   ],
   "source": [
    "result = stats.ttest_ind(semente2, semente3, equal_var = False)\n",
    "\n",
    "if result.pvalue>.05:\n",
    "    print(\"Produtividade das Sementes são iguais\")\n",
    "else:\n",
    "    print(\"Produtividade das Sementes são diferentes\")\n",
    "    \n",
    "\n"
   ]
  },
  {
   "cell_type": "code",
   "execution_count": 71,
   "metadata": {
    "collapsed": false
   },
   "outputs": [
    {
     "name": "stdout",
     "output_type": "stream",
     "text": [
      "Produtividade das Sementes são diferentes\n"
     ]
    }
   ],
   "source": [
    "result = stats.ttest_ind(semente2, semente4, equal_var = False)\n",
    "\n",
    "if result.pvalue>.05:\n",
    "    print(\"Produtividade das Sementes são iguais\")\n",
    "else:\n",
    "    print(\"Produtividade das Sementes são diferentes\")\n",
    "    \n",
    "\n"
   ]
  },
  {
   "cell_type": "code",
   "execution_count": 72,
   "metadata": {
    "collapsed": false
   },
   "outputs": [
    {
     "name": "stdout",
     "output_type": "stream",
     "text": [
      "Produtividade das Sementes são iguais\n"
     ]
    }
   ],
   "source": [
    "result = stats.ttest_ind(semente3, semente4, equal_var = False)\n",
    "\n",
    "if result.pvalue>.05:\n",
    "    print(\"Produtividade das Sementes são iguais\")\n",
    "else:\n",
    "    print(\"Produtividade das Sementes são diferentes\")\n",
    "    \n",
    "\n"
   ]
  }
 ],
 "metadata": {
  "anaconda-cloud": {},
  "kernelspec": {
   "display_name": "Python [Root]",
   "language": "python",
   "name": "Python [Root]"
  },
  "language_info": {
   "codemirror_mode": {
    "name": "ipython",
    "version": 3
   },
   "file_extension": ".py",
   "mimetype": "text/x-python",
   "name": "python",
   "nbconvert_exporter": "python",
   "pygments_lexer": "ipython3",
   "version": "3.5.1"
  }
 },
 "nbformat": 4,
 "nbformat_minor": 0
}
