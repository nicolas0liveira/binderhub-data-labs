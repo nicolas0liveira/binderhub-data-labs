{
 "cells": [
  {
   "cell_type": "code",
   "execution_count": null,
   "metadata": {
    "collapsed": true
   },
   "outputs": [],
   "source": [
    "## EXEMPLO PRÁTICO PARA COM DISTRIBUIÇÃO NORMAL\n",
    "## PROBABILIDADE DE ALUNO OBTER NOTA 10 EM ALGUMA MATÉRIA"
   ]
  },
  {
   "cell_type": "code",
   "execution_count": 102,
   "metadata": {
    "collapsed": false
   },
   "outputs": [
    {
     "data": {
      "text/html": [
       "<div>\n",
       "<table border=\"1\" class=\"dataframe\">\n",
       "  <thead>\n",
       "    <tr style=\"text-align: right;\">\n",
       "      <th></th>\n",
       "      <th>0</th>\n",
       "    </tr>\n",
       "  </thead>\n",
       "  <tbody>\n",
       "    <tr>\n",
       "      <th>count</th>\n",
       "      <td>14.000000</td>\n",
       "    </tr>\n",
       "    <tr>\n",
       "      <th>mean</th>\n",
       "      <td>5.228571</td>\n",
       "    </tr>\n",
       "    <tr>\n",
       "      <th>std</th>\n",
       "      <td>1.760869</td>\n",
       "    </tr>\n",
       "    <tr>\n",
       "      <th>min</th>\n",
       "      <td>1.200000</td>\n",
       "    </tr>\n",
       "    <tr>\n",
       "      <th>25%</th>\n",
       "      <td>4.350000</td>\n",
       "    </tr>\n",
       "    <tr>\n",
       "      <th>50%</th>\n",
       "      <td>5.100000</td>\n",
       "    </tr>\n",
       "    <tr>\n",
       "      <th>75%</th>\n",
       "      <td>6.750000</td>\n",
       "    </tr>\n",
       "    <tr>\n",
       "      <th>max</th>\n",
       "      <td>8.000000</td>\n",
       "    </tr>\n",
       "  </tbody>\n",
       "</table>\n",
       "</div>"
      ],
      "text/plain": [
       "               0\n",
       "count  14.000000\n",
       "mean    5.228571\n",
       "std     1.760869\n",
       "min     1.200000\n",
       "25%     4.350000\n",
       "50%     5.100000\n",
       "75%     6.750000\n",
       "max     8.000000"
      ]
     },
     "execution_count": 102,
     "metadata": {},
     "output_type": "execute_result"
    }
   ],
   "source": [
    "import numpy as np\n",
    "import pandas as pd\n",
    "from scipy import stats, integrate\n",
    "import matplotlib.pyplot as plt\n",
    "\n",
    "%matplotlib inline\n",
    "\n",
    "## dada as notas de um determinado aluno\n",
    "## vamos criar uma distribuição normal baseado em suas notas\n",
    "\n",
    "notas = [1.2, 3.5, 4.5, 5.0, 5.2, 4.0, 5.0, 8.0, 7.0, 7.0, 6.0, 4.3, 7.1, 5.4]\n",
    "\n",
    "n = pd.DataFrame(notas)\n",
    "\n",
    "n.describe()"
   ]
  },
  {
   "cell_type": "code",
   "execution_count": 103,
   "metadata": {
    "collapsed": false
   },
   "outputs": [
    {
     "data": {
      "image/png": "[encoded data removed]",
      "text/plain": [
       "<matplotlib.figure.Figure at 0x7fb6192439e8>"
      ]
     },
     "metadata": {},
     "output_type": "display_data"
    }
   ],
   "source": [
    "#Definindo o range das notas. Neste caso as notas só podem ir de zero a 10\n",
    "x = np.linspace(0, 10)\n",
    "\n",
    "## loc=média and scale=desvio padrão\n",
    "y = norm.pdf(x, loc=n.mean(), scale=n.std()) \n",
    "\n",
    "plt.plot(x,y)\n",
    "plt.show()"
   ]
  },
  {
   "cell_type": "code",
   "execution_count": 104,
   "metadata": {
    "collapsed": false
   },
   "outputs": [
    {
     "data": {
      "text/plain": [
       "array([ 0.00576479])"
      ]
     },
     "execution_count": 104,
     "metadata": {},
     "output_type": "execute_result"
    }
   ],
   "source": [
    "## Qual a probabilidade do aluno conseguir nota 10?\n",
    "x = 10 \n",
    "\n",
    "## pdf pode-se passar várias notas como um array ex.: [10,9,8] \n",
    "## A função retorna um array com as probabilidades de cada nota\n",
    "p = stats.norm(n.mean(), n.std()).pdf(10)\n",
    "p"
   ]
  },
  {
   "cell_type": "code",
   "execution_count": 105,
   "metadata": {
    "collapsed": false
   },
   "outputs": [
    {
     "name": "stdout",
     "output_type": "stream",
     "text": [
      "A probabilidade do aluno tirar nota 10 é :0.576479231333%\n"
     ]
    }
   ],
   "source": [
    "## pegando a primeira probabilidade do array, multiplicando por 100 e convertendo em string\n",
    "p = p[0]\n",
    "\n",
    "\n",
    "print(\"A probabilidade do aluno tirar nota \" + str(x) + \" é :\" + str(p*100) + \"%\")"
   ]
  },
  {
   "cell_type": "code",
   "execution_count": null,
   "metadata": {
    "collapsed": true
   },
   "outputs": [],
   "source": [
    "## Base teórica em pt\n",
    "## JAIRO, Simon da Fonseca, and AM GILBERTO. \"Curso de Estatística.\" São Paulo: Atlas (1996).\n",
    "## https://www.youtube.com/watch?v=BFu8smEp-Cc&index=91&list=PLTtZUJqLYbCl9oBV_22ycFJsVeddG4ixd\n",
    "## https://www.youtube.com/watch?v=yhfODPGaMmY\n",
    "## https://pt.wikipedia.org/wiki/Distribui%C3%A7%C3%A3o_normal\n"
   ]
  }
 ],
 "metadata": {
  "anaconda-cloud": {},
  "kernelspec": {
   "display_name": "Python [Root]",
   "language": "python",
   "name": "Python [Root]"
  },
  "language_info": {
   "codemirror_mode": {
    "name": "ipython",
    "version": 3
   },
   "file_extension": ".py",
   "mimetype": "text/x-python",
   "name": "python",
   "nbconvert_exporter": "python",
   "pygments_lexer": "ipython3",
   "version": "3.5.1"
  }
 },
 "nbformat": 4,
 "nbformat_minor": 0
}
