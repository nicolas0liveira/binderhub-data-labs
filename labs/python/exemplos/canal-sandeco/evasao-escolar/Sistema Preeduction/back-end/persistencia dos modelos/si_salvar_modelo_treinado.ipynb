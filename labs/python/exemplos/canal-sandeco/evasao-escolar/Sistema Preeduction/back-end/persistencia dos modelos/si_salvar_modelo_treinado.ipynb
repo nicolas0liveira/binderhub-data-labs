{
 "cells": [
  {
   "cell_type": "code",
   "execution_count": 2,
   "metadata": {
    "collapsed": false
   },
   "outputs": [
    {
     "name": "stderr",
     "output_type": "stream",
     "text": [
      "C:\\Anaconda2\\lib\\site-packages\\ipykernel\\__main__.py:15: SettingWithCopyWarning: \n",
      "A value is trying to be set on a copy of a slice from a DataFrame\n",
      "\n",
      "See the caveats in the documentation: http://pandas.pydata.org/pandas-docs/stable/indexing.html#indexing-view-versus-copy\n",
      "C:\\Anaconda2\\lib\\site-packages\\ipykernel\\__main__.py:16: SettingWithCopyWarning: \n",
      "A value is trying to be set on a copy of a slice from a DataFrame\n",
      "\n",
      "See the caveats in the documentation: http://pandas.pydata.org/pandas-docs/stable/indexing.html#indexing-view-versus-copy\n",
      "C:\\Anaconda2\\lib\\site-packages\\ipykernel\\__main__.py:19: SettingWithCopyWarning: \n",
      "A value is trying to be set on a copy of a slice from a DataFrame\n",
      "\n",
      "See the caveats in the documentation: http://pandas.pydata.org/pandas-docs/stable/indexing.html#indexing-view-versus-copy\n",
      "C:\\Anaconda2\\lib\\site-packages\\ipykernel\\__main__.py:20: SettingWithCopyWarning: \n",
      "A value is trying to be set on a copy of a slice from a DataFrame\n",
      "\n",
      "See the caveats in the documentation: http://pandas.pydata.org/pandas-docs/stable/indexing.html#indexing-view-versus-copy\n",
      "C:\\Anaconda2\\lib\\site-packages\\ipykernel\\__main__.py:21: SettingWithCopyWarning: \n",
      "A value is trying to be set on a copy of a slice from a DataFrame\n",
      "\n",
      "See the caveats in the documentation: http://pandas.pydata.org/pandas-docs/stable/indexing.html#indexing-view-versus-copy\n"
     ]
    }
   ],
   "source": [
    "from sklearn.externals import joblib\n",
    "from sklearn.linear_model import LogisticRegression\n",
    "from sklearn import svm, naive_bayes, neighbors\n",
    "import pandas as pd\n",
    "\n",
    "# lendo dados limpo do curso de si\n",
    "dados = pd.read_csv('../dados/si_clean.csv')\n",
    "\n",
    "dados.drop('NOTAS', axis=1, inplace=True)\n",
    "dados.drop('N_FALTAS', axis=1, inplace=True)\n",
    "\n",
    "\n",
    "# montando dados para treinamento \n",
    "train_data_aprovado = dados[:]\n",
    "train_data_aprovado.drop('APROVADO',axis=1, inplace=True)\n",
    "train_data_aprovado.drop('SIT_MATRICULA',axis=1, inplace=True)\n",
    "\n",
    "train_data_evasao = dados[:]\n",
    "train_data_evasao.drop('APROVADO',axis=1, inplace=True)\n",
    "train_data_evasao.drop('SIT_MATRICULA',axis=1, inplace=True)\n",
    "train_data_evasao.drop('COD_DISCIPLINA',axis=1, inplace=True)\n",
    "\n",
    "# target\n",
    "target_data_aprovado = dados['APROVADO']\n",
    "target_data_evasao = dados['SIT_MATRICULA']"
   ]
  },
  {
   "cell_type": "code",
   "execution_count": 3,
   "metadata": {
    "collapsed": true
   },
   "outputs": [],
   "source": [
    "def retornaModeloTreinado(model, validacao):\n",
    "    if validacao == 'aprovado':\n",
    "        X = train_data_aprovado\n",
    "        y = target_data_aprovado\n",
    "    elif validacao == 'evasao':\n",
    "        X = train_data_evasao\n",
    "        y = target_data_evasao\n",
    "    \n",
    "    return model.fit(X, y)"
   ]
  },
  {
   "cell_type": "code",
   "execution_count": 4,
   "metadata": {
    "collapsed": true
   },
   "outputs": [],
   "source": [
    "# escolhidos para aprovado/reprovado\n",
    "logistic_regression_aprovado = LogisticRegression(solver='newton-cg')\n",
    "svm_aprovado = svm.SVC()\n",
    "knn_aprovado = neighbors.KNeighborsClassifier(weights='distance')\n",
    "naive_bayes_aprovado = naive_bayes.BernoulliNB()\n",
    "\n",
    "# escolhidos para evasao\n",
    "logistic_regression_evasao = LogisticRegression(solver='newton-cg')\n",
    "svm_evasao = svm.SVC()\n",
    "knn_evasao = neighbors.KNeighborsRegressor(n_neighbors=7)\n",
    "naive_bayes_evasao = naive_bayes.BernoulliNB()"
   ]
  },
  {
   "cell_type": "code",
   "execution_count": 5,
   "metadata": {
    "collapsed": false
   },
   "outputs": [
    {
     "name": "stdout",
     "output_type": "stream",
     "text": [
      "ok\n"
     ]
    }
   ],
   "source": [
    "joblib.dump(retornaModeloTreinado(knn_aprovado, 'aprovado'), '../model/model_si_aprovado.pkl')\n",
    "joblib.dump(retornaModeloTreinado(knn_evasao, 'evasao'), '../model/model_si_evasao.pkl')\n",
    "print('ok')"
   ]
  }
 ],
 "metadata": {
  "kernelspec": {
   "display_name": "Python 2",
   "language": "python",
   "name": "python2"
  },
  "language_info": {
   "codemirror_mode": {
    "name": "ipython",
    "version": 2
   },
   "file_extension": ".py",
   "mimetype": "text/x-python",
   "name": "python",
   "nbconvert_exporter": "python",
   "pygments_lexer": "ipython2",
   "version": "2.7.12"
  }
 },
 "nbformat": 4,
 "nbformat_minor": 0
}
